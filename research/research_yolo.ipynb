{
 "cells": [
  {
   "cell_type": "code",
   "execution_count": 1,
   "metadata": {},
   "outputs": [],
   "source": [
    "import os \n",
    "os.chdir(\"../\")"
   ]
  },
  {
   "cell_type": "code",
   "execution_count": 9,
   "metadata": {},
   "outputs": [
    {
     "name": "stdout",
     "output_type": "stream",
     "text": [
      "\n",
      "0: 448x640 22 FACEs, 104.8ms\n",
      "Speed: 0.0ms preprocess, 104.8ms inference, 6.0ms postprocess per image at shape (1, 3, 448, 640)\n"
     ]
    }
   ],
   "source": [
    "from huggingface_hub import hf_hub_download\n",
    "from ultralytics import YOLO\n",
    "from supervision import Detections\n",
    "from PIL import Image, ImageDraw\n",
    "\n",
    "# download and load model\n",
    "model_path = hf_hub_download(repo_id=\"arnabdhar/YOLOv8-Face-Detection\", filename=\"model.pt\",local_dir = \"R:/Attendance_system/model\")\n",
    "model = YOLO(model_path)\n",
    "\n",
    "# load image\n",
    "image_path = \"data/pic.jpg\"\n",
    "image = Image.open(image_path)\n",
    "\n",
    "# run inference\n",
    "output = model(image)\n",
    "detections = Detections.from_ultralytics(output[0])\n",
    "\n",
    "# draw bounding boxes\n",
    "draw = ImageDraw.Draw(image)\n",
    "for box in detections.xyxy:  # corrected to detections.xyxy\n",
    "    # box coordinates\n",
    "    x1, y1, x2, y2 = box\n",
    "    draw.rectangle([x1, y1, x2, y2], outline=\"red\", width=3)\n",
    "\n",
    "# display or save the image\n",
    "image.show()  # to display the image\n",
    "# image.save(\"output.jpg\")  # uncomment to save the image\n"
   ]
  }
 ],
 "metadata": {
  "kernelspec": {
   "display_name": ".venv",
   "language": "python",
   "name": "python3"
  },
  "language_info": {
   "codemirror_mode": {
    "name": "ipython",
    "version": 3
   },
   "file_extension": ".py",
   "mimetype": "text/x-python",
   "name": "python",
   "nbconvert_exporter": "python",
   "pygments_lexer": "ipython3",
   "version": "3.12.5"
  }
 },
 "nbformat": 4,
 "nbformat_minor": 2
}
