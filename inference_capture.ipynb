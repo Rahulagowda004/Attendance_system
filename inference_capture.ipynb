{
 "cells": [
  {
   "cell_type": "code",
   "execution_count": 2,
   "metadata": {},
   "outputs": [],
   "source": [
    "import os\n",
    "os.chdir(\"../\")"
   ]
  },
  {
   "cell_type": "code",
   "execution_count": 3,
   "metadata": {},
   "outputs": [],
   "source": [
    "from huggingface_hub import hf_hub_download\n",
    "from ultralytics import YOLO\n",
    "from supervision import Detections\n",
    "from PIL import Image, ImageDraw\n",
    "\n",
    "# download and load model\n",
    "model = YOLO(\"models\\\\yolo_model\\\\model.pt\")"
   ]
  },
  {
   "cell_type": "code",
   "execution_count": 4,
   "metadata": {},
   "outputs": [
    {
     "name": "stdout",
     "output_type": "stream",
     "text": [
      "\n",
      "0: 512x640 28 FACEs, 229.6ms\n",
      "Speed: 14.0ms preprocess, 229.6ms inference, 16.8ms postprocess per image at shape (1, 3, 512, 640)\n",
      "All bounding boxes cropped and saved in 'artifacts/inference' directory.\n"
     ]
    }
   ],
   "source": [
    "import os\n",
    "from PIL import Image, ImageDraw\n",
    "\n",
    "# Load the image and model\n",
    "image_path = \"pic.png\"\n",
    "image = Image.open(image_path)\n",
    "output = model(image)\n",
    "detections = Detections.from_ultralytics(output[0])\n",
    "\n",
    "# Create directory to save cropped images\n",
    "output_dir = \"artifacts/inference\"\n",
    "os.makedirs(output_dir, exist_ok=True)\n",
    "\n",
    "# Iterate through each bounding box and save the cropped area\n",
    "for box_id, box in enumerate(detections.xyxy):\n",
    "    x1, y1, x2, y2 = map(int, box)  # Convert coordinates to integers\n",
    "\n",
    "    # Crop the image using the bounding box coordinates\n",
    "    cropped_image = image.crop((x1, y1, x2, y2))\n",
    "    \n",
    "    # Save the cropped image\n",
    "    cropped_image_path = os.path.join(output_dir, f\"box_{box_id}.png\")\n",
    "    cropped_image.save(cropped_image_path)\n",
    "\n",
    "print(f\"All bounding boxes cropped and saved in '{output_dir}' directory.\")"
   ]
  },
  {
   "cell_type": "code",
   "execution_count": null,
   "metadata": {},
   "outputs": [],
   "source": []
  }
 ],
 "metadata": {
  "kernelspec": {
   "display_name": ".venv",
   "language": "python",
   "name": "python3"
  },
  "language_info": {
   "codemirror_mode": {
    "name": "ipython",
    "version": 3
   },
   "file_extension": ".py",
   "mimetype": "text/x-python",
   "name": "python",
   "nbconvert_exporter": "python",
   "pygments_lexer": "ipython3",
   "version": "3.12.5"
  }
 },
 "nbformat": 4,
 "nbformat_minor": 2
}
