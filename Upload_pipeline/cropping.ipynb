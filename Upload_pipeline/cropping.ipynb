{
 "cells": [
  {
   "cell_type": "code",
   "execution_count": 1,
   "metadata": {},
   "outputs": [],
   "source": [
    "import os\n",
    "os.chdir(\"../\")"
   ]
  },
  {
   "cell_type": "code",
   "execution_count": 2,
   "metadata": {},
   "outputs": [],
   "source": [
    "from ultralytics import YOLO\n",
    "from supervision import Detections\n",
    "from PIL import Image, ImageDraw\n",
    "\n",
    "# download and load model\n",
    "model = YOLO(\"models\\\\yolo_model\\\\model.pt\")"
   ]
  },
  {
   "cell_type": "code",
   "execution_count": null,
   "metadata": {},
   "outputs": [],
   "source": [
    "# Define paths for the input directory and output directory\n",
    "input_dir = \"data_set//3\"  # Replace with the path to your input folder\n",
    "output_dir = \"artifacts//training//3\"  # Replace with the path to your output folder\n",
    "os.makedirs(output_dir, exist_ok=True)\n",
    "\n",
    "# Iterate through each image in the input directory\n",
    "for image_filename in os.listdir(input_dir):\n",
    "    # Check if the file is an image (you can add more formats if needed)\n",
    "    if image_filename.endswith((\".png\", \".jpg\", \".jpeg\")):\n",
    "        image_path = os.path.join(input_dir, image_filename)\n",
    "        image = Image.open(image_path)\n",
    "\n",
    "        # Load model and perform detection (assuming 'model' is defined and loaded elsewhere)\n",
    "        output = model(image)\n",
    "        detections = Detections.from_ultralytics(output[0])\n",
    "\n",
    "        # Iterate through each bounding box and save the cropped area\n",
    "        for box_id, box in enumerate(detections.xyxy):\n",
    "            x1, y1, x2, y2 = map(int, box)  # Convert coordinates to integers\n",
    "\n",
    "            # Crop the image using the bounding box coordinates\n",
    "            cropped_image = image.crop((x1, y1, x2, y2))\n",
    "\n",
    "            # Save the cropped image with a unique filename\n",
    "            cropped_image_filename = f\"{os.path.splitext(image_filename)[0]}_box_{box_id}.png\"\n",
    "            cropped_image_path = os.path.join(output_dir, cropped_image_filename)\n",
    "            cropped_image.save(cropped_image_path)"
   ]
  },
  {
   "cell_type": "code",
   "execution_count": null,
   "metadata": {},
   "outputs": [],
   "source": []
  }
 ],
 "metadata": {
  "kernelspec": {
   "display_name": ".venv",
   "language": "python",
   "name": "python3"
  },
  "language_info": {
   "codemirror_mode": {
    "name": "ipython",
    "version": 3
   },
   "file_extension": ".py",
   "mimetype": "text/x-python",
   "name": "python",
   "nbconvert_exporter": "python",
   "pygments_lexer": "ipython3",
   "version": "3.12.5"
  }
 },
 "nbformat": 4,
 "nbformat_minor": 2
}
