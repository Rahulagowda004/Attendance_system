{
 "cells": [
  {
   "cell_type": "code",
   "execution_count": 41,
   "metadata": {},
   "outputs": [],
   "source": [
    "import numpy as np\n",
    "from PIL import Image\n",
    "import tensorflow as tf\n",
    "import keras\n",
    "import os"
   ]
  },
  {
   "cell_type": "code",
   "execution_count": 43,
   "metadata": {},
   "outputs": [
    {
     "data": {
      "text/plain": [
       "'r:\\\\Attendance_system'"
      ]
     },
     "execution_count": 43,
     "metadata": {},
     "output_type": "execute_result"
    }
   ],
   "source": [
    "%pwd"
   ]
  },
  {
   "cell_type": "code",
   "execution_count": 44,
   "metadata": {},
   "outputs": [],
   "source": [
    "@keras.saving.register_keras_serializable()\n",
    "def scaling(x, scale=1.0):\n",
    "    return x * scale\n",
    "\n",
    "# Load the model\n",
    "model = keras.models.load_model(\"artifacts/model.keras\", custom_objects={'scaling': scaling})"
   ]
  },
  {
   "cell_type": "code",
   "execution_count": 49,
   "metadata": {},
   "outputs": [
    {
     "ename": "TypeError",
     "evalue": "Predictions.names() missing 1 required positional argument: 'directory'",
     "output_type": "error",
     "traceback": [
      "\u001b[1;31m---------------------------------------------------------------------------\u001b[0m",
      "\u001b[1;31mTypeError\u001b[0m                                 Traceback (most recent call last)",
      "Cell \u001b[1;32mIn[49], line 32\u001b[0m\n\u001b[0;32m     29\u001b[0m         mapped_names \u001b[38;5;241m=\u001b[39m [label[i] \u001b[38;5;28;01mfor\u001b[39;00m i \u001b[38;5;129;01min\u001b[39;00m present]\n\u001b[0;32m     30\u001b[0m         \u001b[38;5;28;01mreturn\u001b[39;00m mapped_names\n\u001b[1;32m---> 32\u001b[0m \u001b[43mPredictions\u001b[49m\u001b[38;5;241;43m.\u001b[39;49m\u001b[43mnames\u001b[49m\u001b[43m(\u001b[49m\u001b[38;5;124;43m\"\u001b[39;49m\u001b[38;5;124;43martifacts/testing_images\u001b[39;49m\u001b[38;5;124;43m\"\u001b[39;49m\u001b[43m)\u001b[49m\n\u001b[0;32m     35\u001b[0m \u001b[38;5;66;03m# present = []\u001b[39;00m\n\u001b[0;32m     36\u001b[0m \n\u001b[0;32m     37\u001b[0m \u001b[38;5;66;03m# # Example usage\u001b[39;00m\n\u001b[1;32m   (...)\u001b[0m\n\u001b[0;32m     44\u001b[0m \u001b[38;5;66;03m# mapped_names = [label[i] for i in present]\u001b[39;00m\n\u001b[0;32m     45\u001b[0m \u001b[38;5;66;03m# print(mapped_names)\u001b[39;00m\n",
      "\u001b[1;31mTypeError\u001b[0m: Predictions.names() missing 1 required positional argument: 'directory'"
     ]
    }
   ],
   "source": [
    "\n",
    "class Predictions:\n",
    "    def __init__(self, image_path, model=model):\n",
    "        self.image_path = image_path\n",
    "        self.model = model\n",
    "        self.input_size = (160, 160)\n",
    "        \n",
    "    def preprocess_image(self):\n",
    "        image = Image.open(self.image_path).convert(\"RGB\")\n",
    "        image = image.resize(self.input_size, Image.LANCZOS)\n",
    "        image_array = np.array(image) / 255.0\n",
    "        image_array = np.expand_dims(image_array, axis=0)\n",
    "        return image_array\n",
    "    \n",
    "    def predict(self):\n",
    "        preprocessed_image = self.preprocess_image()\n",
    "        prediction = self.model.predict(preprocessed_image)\n",
    "        predicted_class = np.argmax(prediction)\n",
    "        return predicted_class\n",
    "    \n",
    "    def names(self,directory):\n",
    "        present = []\n",
    "        \n",
    "        for files in os.listdir(directory):\n",
    "            image_path = f\"{directory}/{files}\"\n",
    "            present.append(self.predict())\n",
    "            \n",
    "        label = {0:\"Ben\",1:\"Rahul\",2:\"Santhosh\",3:\"Naveen\"}\n",
    "        mapped_names = [label[i] for i in present]\n",
    "        return mapped_names\n",
    "    \n",
    "Predictions.names(\"artifacts/testing_images\")\n",
    "\n",
    "\n",
    "# present = []\n",
    "\n",
    "# # Example usage\n",
    "# for files in os.listdir(\"artifacts/testing_images\"):\n",
    "#     image_path = f\"artifacts/testing_images/{files}\"\n",
    "#     pred = Predictions(image_path)\n",
    "#     present.append(pred.predict())\n",
    "    \n",
    "# label = {0:\"Ben\",1:\"Rahul\",2:\"Santhosh\",3:\"Naveen\"}\n",
    "# mapped_names = [label[i] for i in present]\n",
    "# print(mapped_names)"
   ]
  },
  {
   "cell_type": "code",
   "execution_count": 55,
   "metadata": {},
   "outputs": [
    {
     "name": "stdout",
     "output_type": "stream",
     "text": [
      "\u001b[1m1/1\u001b[0m \u001b[32m━━━━━━━━━━━━━━━━━━━━\u001b[0m\u001b[37m\u001b[0m \u001b[1m0s\u001b[0m 174ms/step\n",
      "\u001b[1m1/1\u001b[0m \u001b[32m━━━━━━━━━━━━━━━━━━━━\u001b[0m\u001b[37m\u001b[0m \u001b[1m0s\u001b[0m 122ms/step\n",
      "\u001b[1m1/1\u001b[0m \u001b[32m━━━━━━━━━━━━━━━━━━━━\u001b[0m\u001b[37m\u001b[0m \u001b[1m0s\u001b[0m 93ms/step\n",
      "\u001b[1m1/1\u001b[0m \u001b[32m━━━━━━━━━━━━━━━━━━━━\u001b[0m\u001b[37m\u001b[0m \u001b[1m0s\u001b[0m 96ms/step\n",
      "['Ben', 'Naveen', 'Rahul', 'Santhosh']\n"
     ]
    }
   ],
   "source": [
    "import os\n",
    "import numpy as np\n",
    "from PIL import Image\n",
    "\n",
    "class Predictions:\n",
    "    def __init__(self, image_path = None, model = model):\n",
    "        self.image_path = image_path\n",
    "        self.model = model\n",
    "        self.input_size = (160, 160)\n",
    "        \n",
    "    def preprocess_image(self):\n",
    "        image = Image.open(self.image_path).convert(\"RGB\")\n",
    "        image = image.resize(self.input_size, Image.LANCZOS)\n",
    "        image_array = np.array(image) / 255.0\n",
    "        image_array = np.expand_dims(image_array, axis=0)\n",
    "        return image_array\n",
    "    \n",
    "    def predict(self):\n",
    "        preprocessed_image = self.preprocess_image()\n",
    "        prediction = self.model.predict(preprocessed_image)\n",
    "        predicted_class = np.argmax(prediction)\n",
    "        return predicted_class\n",
    "    \n",
    "    def names(self, directory):\n",
    "        present = []\n",
    "        \n",
    "        for files in os.listdir(directory):\n",
    "            image_path = os.path.join(directory, files)\n",
    "            self.image_path = image_path  # Update image path for prediction\n",
    "            present.append(self.predict())\n",
    "            \n",
    "        label = {0: \"Ben\", 1: \"Rahul\", 2: \"Santhosh\", 3: \"Naveen\"}\n",
    "        mapped_names = [label[i] for i in present]\n",
    "        return mapped_names\n",
    "\n",
    "# Example usage:\n",
    "predictions = Predictions()\n",
    "print(predictions.names(\"artifacts/testing_images\"))\n"
   ]
  },
  {
   "cell_type": "code",
   "execution_count": null,
   "metadata": {},
   "outputs": [],
   "source": []
  }
 ],
 "metadata": {
  "kernelspec": {
   "display_name": ".venv",
   "language": "python",
   "name": "python3"
  },
  "language_info": {
   "codemirror_mode": {
    "name": "ipython",
    "version": 3
   },
   "file_extension": ".py",
   "mimetype": "text/x-python",
   "name": "python",
   "nbconvert_exporter": "python",
   "pygments_lexer": "ipython3",
   "version": "3.12.5"
  }
 },
 "nbformat": 4,
 "nbformat_minor": 2
}
