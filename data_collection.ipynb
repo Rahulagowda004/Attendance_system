{
 "cells": [
  {
   "cell_type": "code",
   "execution_count": 1,
   "metadata": {},
   "outputs": [
    {
     "name": "stdout",
     "output_type": "stream",
     "text": [
      "Capturing images for 0. Press 'q' to quit early.\n",
      "Saved data\\0\\0_1.jpg\n",
      "Collected 1 images for 0.\n"
     ]
    }
   ],
   "source": [
    "import os\n",
    "import cv2\n",
    "import csv\n",
    "\n",
    "# Set the base path where images will be saved\n",
    "base_path = \"data\"\n",
    "csv_path = os.path.join(base_path, \"bounding_boxes.csv\")\n",
    "\n",
    "# Initialize Haar Cascade for face detection\n",
    "face_cascade = cv2.CascadeClassifier(cv2.data.haarcascades + 'haarcascade_frontalface_default.xml')\n",
    "\n",
    "# Define a function to capture and save images with bounding box data for a specific person\n",
    "def capture_images(person_name, num_images=50):\n",
    "    # Create a directory for the person if it doesn't exist\n",
    "    person_path = os.path.join(base_path, person_name)\n",
    "    os.makedirs(person_path, exist_ok=True)\n",
    "\n",
    "    # Open the CSV file to append bounding box data\n",
    "    with open(csv_path, mode='a', newline='') as file:\n",
    "        writer = csv.writer(file)\n",
    "        \n",
    "        # Write headers if the file is empty\n",
    "        if os.path.getsize(csv_path) == 0:\n",
    "            writer.writerow([\"Class\", \"X\", \"Y\", \"Width\", \"Height\"])\n",
    "        \n",
    "        # Initialize webcam\n",
    "        cap = cv2.VideoCapture(0)\n",
    "        count = 0\n",
    "\n",
    "        print(f\"Capturing images for {person_name}. Press 'q' to quit early.\")\n",
    "\n",
    "        while count < num_images:\n",
    "            # Capture frame-by-frame\n",
    "            ret, frame = cap.read()\n",
    "            if not ret:\n",
    "                break\n",
    "\n",
    "            # Convert the frame to grayscale for face detection\n",
    "            gray = cv2.cvtColor(frame, cv2.COLOR_BGR2GRAY)\n",
    "            faces = face_cascade.detectMultiScale(gray, scaleFactor=1.1, minNeighbors=5, minSize=(30, 30))\n",
    "\n",
    "            # Draw bounding box and save data\n",
    "            for (x, y, w, h) in faces:\n",
    "                # Draw bounding box around the face\n",
    "                cv2.rectangle(frame, (x, y), (x + w, y + h), (255, 0, 0), 2)\n",
    "\n",
    "                # Save the frame\n",
    "                img_name = os.path.join(person_path, f\"{person_name}_{count + 1}.jpg\")\n",
    "                cv2.imwrite(img_name, frame)\n",
    "                print(f\"Saved {img_name}\")\n",
    "\n",
    "                # Write bounding box data to CSV\n",
    "                writer.writerow([person_name, x, y, w, h])\n",
    "\n",
    "                count += 1\n",
    "                if count >= num_images:\n",
    "                    break\n",
    "\n",
    "            # Display the frame to the user\n",
    "            cv2.imshow(\"Capture Images\", frame)\n",
    "\n",
    "            # Press 'q' to stop early if needed\n",
    "            if cv2.waitKey(1) & 0xFF == ord('q'):\n",
    "                break\n",
    "\n",
    "        # Release the webcam and close the display window\n",
    "        cap.release()\n",
    "        cv2.destroyAllWindows()\n",
    "        print(f\"Collected {count} images for {person_name}.\")\n",
    "\n",
    "# Specify the person's name and number of images to capture\n",
    "person_name = input(\"Enter the person's name: \")\n",
    "num_images = int(input(\"Enter the number of images to capture: \"))\n",
    "capture_images(person_name, num_images)"
   ]
  },
  {
   "cell_type": "code",
   "execution_count": null,
   "metadata": {},
   "outputs": [],
   "source": []
  }
 ],
 "metadata": {
  "kernelspec": {
   "display_name": ".venv",
   "language": "python",
   "name": "python3"
  },
  "language_info": {
   "codemirror_mode": {
    "name": "ipython",
    "version": 3
   },
   "file_extension": ".py",
   "mimetype": "text/x-python",
   "name": "python",
   "nbconvert_exporter": "python",
   "pygments_lexer": "ipython3",
   "version": "3.12.5"
  }
 },
 "nbformat": 4,
 "nbformat_minor": 2
}
